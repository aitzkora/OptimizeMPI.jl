{
 "cells": [
  {
   "cell_type": "markdown",
   "metadata": {},
   "source": [
    "<center>\n",
    "<H1> Calling a parallel simulation code from Julia</H1>\n",
    "<img src=\"figures/desman.jpg\" width=\"300\" alt=\"Galemys pyrenaicus\"/>\n",
    "    <H4> Marc Fuentes, INRIA </H4>\n",
    "    <H5> code and notebook available at http://github.com/aitzkora/OptimizeMPI.jl\n",
    "</center>    "
   ]
  },
  {
   "cell_type": "markdown",
   "metadata": {},
   "source": [
    "## Rationale\n",
    " \n",
    "Imagine you are a Ph.D student and use every a parallel software for simulating some physical process \n",
    "relative to your research work; One day, you need to optimize some physical parameters : in other words,\n",
    "you have to solve an *inverse problem*, whereas running your simulation is called direct problem. \n",
    "Optimization methods are numerous, and implementing state-of-the-art methods in a low-level \n",
    "language such as Fortran, C or C++ is not straightforward. In this poster, we want to present \n",
    "some recipes (technical and numerical), to do that with \"Julia\". Knowledges are basical, and the aim\n",
    "must be seen as a tutorial. Our hypotheses are the following : \n",
    "\n",
    " - distributed memory paradigm for parallelism (i.e. MPI) \n",
    " - direct problem is Fortran or C.\n",
    " - For optimization methods needing a gradient, implementing gradient computation method will be\n",
    " done in the low level language.\n",
    "\n",
    "To sum up with a small sketch it corresponds to \n",
    "<img src=\"figures/rational_call.svg\" width=\"200\"/>"
   ]
  },
  {
   "cell_type": "markdown",
   "metadata": {
    "lines_to_next_cell": 0
   },
   "source": [
    "## technical tools\n",
    "\n",
    "To manage to implement our optimization process, we need mainly of two ingredients\n",
    "1. calling a piece of external code \n",
    "2. running julia scripts in a MPI environment \n",
    "\n",
    "Let's go : \n",
    "\n",
    "### calling Fortran or C code\n",
    "\n",
    "- to call a external piece of code,  we will use the *Julia* statement `ccall`. As documented\n",
    "[here](https://docs.julialang.org/en/v1/base/c/), the syntax is the following\n",
    "\n",
    "```julia\n",
    "ccall((:funcName, library), returnType, (argType1, argType2, ...), (argVal1, argVal2, ...))\n",
    "ccall(funcPtr, returnType, (argType1, argType2, ...), (argVal1, argVal2, ...))\n",
    "```\n",
    "\n",
    "where `function_name` is the mangled name of the C function in the shared library library. If you do not know\n",
    "what is mangling, take a look at [there](https://en.wikipedia.org/wiki/Name_mangling) : Roughly languages like \n",
    "Fortran (due case insensitiness) or C++ (the same function name could have several signatures), must encode\n",
    "their function names when they interoperate with C.\n",
    "\n",
    "#### Remarks \n",
    "- library is only _formally_ a string :\n",
    "- you could use `\"./mylib.so\"`   \n",
    "- but ⚠ you **could not** use `string(pwd(),\"/mylib.so\")` ⚠ \n",
    "- to use a library which is not in `.`, add the path to `LD_LIBRARY_PATH` before launching **Julia** (Just tested on Linux, for MacOS or Windows\n",
    "- using `dlopen` and `dlsym` one could directly use the function pointer call\n",
    "\n",
    "To start, we could do a small C example, with a function adding 2 to its argument"
   ]
  },
  {
   "cell_type": "code",
   "execution_count": 1,
   "metadata": {
    "lines_to_next_cell": 0
   },
   "outputs": [
    {
     "name": "stdout",
     "output_type": "stream",
     "text": [
      "w = 14\n"
     ]
    }
   ],
   "source": [
    "io = open(\"/tmp/skel.c\",\"w\")\n",
    "write(io, \"int addTwo(int x) { return x+2; }\")\n",
    "close(io)\n",
    "run(`gcc -o addTwo.so --shared /tmp/skel.c`);\n",
    "w = ccall((:addTwo, \"./addTwo.so\"), Int32, (Int32,), 12)\n",
    "run(`rm addTwo.so /tmp/skel.c`)\n",
    "println(\"w = $w\")"
   ]
  },
  {
   "cell_type": "markdown",
   "metadata": {},
   "source": [
    "This example deserves some explanations: \n",
    "1. to build a *shared* library we add on the gcc compiler command the flag `--shared`. This is evidently,\n",
    "compiler dependant. If you use Intel, NAG or Microsoft, it could be different. To enforce more portability,\n",
    "in the sequel, we will use **CMake** as an utility to generate Makefiles and doing the compilation. To\n",
    "do that, with CMake, one could write\n",
    "```cmake\n",
    "add_library(addTwo SHARED /tmp/skel.c)\n",
    "```\n",
    "2. One big difference between Fortran and C, is the default argument pass method ; In C, it is by-value,\n",
    "so a function like `addTwo` cannot modify its arguments. To do that, you need to use pointers and furnish\n",
    "a Julia **reference** to `ccall`"
   ]
  },
  {
   "cell_type": "code",
   "execution_count": null,
   "metadata": {
    "lines_to_next_cell": 0
   },
   "outputs": [],
   "source": [
    "io = open(\"/tmp/skel2.c\",\"w\")\n",
    "write(io, \"void addTwoToItsArg(int  * x) { *x= *x+2; }\")\n",
    "close(io)\n",
    "run(`gcc -o addTwoToItsArg.so --shared /tmp/skel2.c`);\n",
    "z = Ref{Int32}(12)\n",
    "w = ccall((:addTwoToItsArg, \"./addTwoToItsArg.so\"), Cvoid, (Ref{Int32},), z)\n",
    "run(`rm addTwoItsArg.so /tmp/skel2.c`)\n",
    "println(\"z = \",z[])"
   ]
  },
  {
   "cell_type": "markdown",
   "metadata": {},
   "source": [
    "3. To do the same in Fortran, we can use the following code\n",
    "\n",
    "```fortran\n",
    "module example\n",
    "  use iso_c_binding\n",
    "contains\n",
    "  subroutine addTwoF(x) bind(C, name =\"addTwoF\")\n",
    "    integer(c_int), intent (inout) :: x\n",
    "    x = x + 2\n",
    "  end subroutine \n",
    "end module\n",
    "```\n",
    "\n",
    "In this example, we used the statement bind to attach a C name to our Fortran function. It will override\n",
    "the mangled name, when we will use `ccall`. To enforce compatibility, Fortran 90 has some \n",
    "C compatibles types , such as  `real(c_double)`, `integer(c_int)` defined in the module `iso_c_binding`.\n",
    "The `intent(inout)` does not change how the argument is passed (by reference), it is just a information\n",
    "to enable the compiler to do more checks."
   ]
  },
  {
   "cell_type": "code",
   "execution_count": 4,
   "metadata": {
    "lines_to_next_cell": 0
   },
   "outputs": [
    {
     "name": "stdout",
     "output_type": "stream",
     "text": [
      "z = 14\n"
     ]
    }
   ],
   "source": [
    "run(`gfortran -o addTwoF.so --shared ./examples/addTwoF.f90`);\n",
    "z = Ref{Int32}(12) # ✏️ VERY IMPORTANT ✏️\n",
    "w = ccall((:addTwoF, \"./addTwoF.so\"), Cvoid, (Ref{Int32},), z)\n",
    "run(`rm addTwoF.so`)\n",
    "println(\"z = \",z[])"
   ]
  },
  {
   "cell_type": "markdown",
   "metadata": {},
   "source": [
    "4. To end with external code calling, we have to speak about arrays : Julia arrays can be convert \n",
    "to pointers without any problem, when using `ccall` As an example, \n",
    "```C\n",
    "void changeArray(int n, double * x) { if (n > 1) x[0] += 3 ; }\n",
    "```"
   ]
  },
  {
   "cell_type": "code",
   "execution_count": 2,
   "metadata": {
    "lines_to_next_cell": 0
   },
   "outputs": [
    {
     "name": "stdout",
     "output_type": "stream",
     "text": [
      "a = [4.0, 2.0, 3.0]\n"
     ]
    }
   ],
   "source": [
    "\n",
    "run(`gcc -o changeArray.so --shared examples/changeArray.c`);\n",
    "a = [1:3.;]\n",
    "w = ccall((:changeArray, \"./changeArray.so\"), Cvoid, (Int32, Ptr{Float64},), size(a,1), a)\n",
    "run(`rm changeArray.so`)\n",
    "println(\"a = $a\")\n"
   ]
  },
  {
   "cell_type": "markdown",
   "metadata": {
    "lines_to_next_cell": 0
   },
   "source": [
    "### Interacting with MPI\n",
    "\n",
    "Interacting with MPI, is not so hard, thanks to the good job done by authors of `MPI.jl` and \n",
    "`MPIClusterManagers` packages. Perhaps, before to build those packages, you need to select \n",
    "the good implementation on your system used by julia setting up some environment variables\n",
    "in your `startup.jl` file :\n",
    "```julia\n",
    "ENV[\"JULIA_MPI_C_LIBRARIES\"] = \"-L/usr/lib/openmpi/ -lmpi\"\n",
    "ENV[\"JULIA_MPI_Fortran_INCLUDE_PATH\"] = \"-I/usr/include\"\n",
    "ENV[\"JULIA_MPI_PATH\"] = \"/usr/bin/mpirun\"\n",
    "```\n",
    "\n",
    "Using `MPI.jl`, the following \"hello world\" program"
   ]
  },
  {
   "cell_type": "markdown",
   "metadata": {
    "lines_to_next_cell": 0
   },
   "source": [
    "```julia\n",
    "using MPI\n",
    "MPI.Init()\n",
    "println(\"Hi from $(MPI.Comm_rank(MPI.COMM_WORLD))!\")\n",
    "flush(stdout)\n",
    "```"
   ]
  },
  {
   "cell_type": "markdown",
   "metadata": {
    "lines_to_next_cell": 0
   },
   "source": [
    "could be run directly from shell : the mpi runner calls explicitly Julia"
   ]
  },
  {
   "cell_type": "code",
   "execution_count": 1,
   "metadata": {
    "lines_to_next_cell": 0
   },
   "outputs": [
    {
     "name": "stdout",
     "output_type": "stream",
     "text": [
      "Hi from 0!\n",
      "Hi from 1!\n"
     ]
    }
   ],
   "source": [
    "run(`mpirun -np 2 julia examples/hello_world.jl`);"
   ]
  },
  {
   "cell_type": "markdown",
   "metadata": {
    "lines_to_next_cell": 0
   },
   "source": [
    "Doing so, since `mpirun` calls julia, the julia code, in jit compiled and furthermore, we must run\n",
    "the code out of Julia, interpretor, which is not very convenient for doing our experiments. To avoid\n",
    "that, we will use the `MPIClusterManagers` package's macro `@mpi_do`\n",
    "\n",
    "For example, one could run"
   ]
  },
  {
   "cell_type": "code",
   "execution_count": null,
   "metadata": {},
   "outputs": [],
   "source": []
  }
 ],
 "metadata": {
  "kernelspec": {
   "display_name": "Julia 1.5.0-beta1",
   "language": "julia",
   "name": "julia-1.5"
  },
  "language_info": {
   "file_extension": ".jl",
   "mimetype": "application/julia",
   "name": "julia",
   "version": "1.5.0"
  }
 },
 "nbformat": 4,
 "nbformat_minor": 4
}
