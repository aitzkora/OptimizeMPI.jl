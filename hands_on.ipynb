commit cd9bc1dcb80386141c4dcf3e95fce2fe8b9ffd2e
Author: aitzkora <marc.fuentes@aquilenet.fr>
Date:   Wed Jul 15 10:06:18 2020 +0200

    now the poster is too long : we have to prune

diff --git a/calling_a_parallel_code.ipynb b/calling_a_parallel_code.ipynb
index defcbda..9807e53 100644
--- a/calling_a_parallel_code.ipynb
+++ b/calling_a_parallel_code.ipynb
@@ -466,26 +466,11 @@
     "grad! = (g,x)-> simu!(n,x,g)\n",
     "```  \n",
     " Note, doing that is costly, because we compute a gradient even if we just need $f$. We will see, in the\n",
-    " next example that we must be able to compute $f$ without computing $\\nabla f$."
-   ]
-  },
-  {
-   "cell_type": "code",
-   "execution_count": 2,
-   "metadata": {},
-   "outputs": [
-    {
-     "name": "stdout",
-     "output_type": "stream",
-     "text": [
-      "Added procs [1, 2, 3, 4, 5]\n",
-      "      From worker 2:\tf(x₀) = 24.86580624111881, |∇f(x₀)| = 7.05206441279698\n",
-      "      From worker 2:\t|sol - cos(1:100)| = 0.0\n"
-     ]
-    }
-   ],
-   "source": [
-    "cd(\"squared_norm\"); include(\"cluster_optim.jl\");"
+    " next example that we must be able to compute $f$ without computing $\\nabla f$.\n",
+    "\n",
+    "```julia\n",
+    "cd(\"squared_norm\"); include(\"cluster_optim.jl\");\n",
+    "```"
    ]
   },
   {
@@ -578,7 +563,7 @@
     " return v,  ∇f \n",
     "end\n",
     "``` \n",
-    "Some software tools using *automatic differientation* exist to generate a program computing the gradient.\n",
+    "Some software tools using *automatic differentiation* exist to generate a program computing the gradient.\n",
     "For instance, if your code is written in Julia (which is not the purpose of this poster), you could use\n",
     "[JuliaDiff](https://www.juliadiff.org/). For C or Fortran codes, for instance your could use [adifor](https://www.mcs.anl.gov/research/projects/adifor/) or \n",
     "[tapenade](http://tapenade.inria.fr:8080/tapenade/index.jsp). In our case, computing analytical for\n",
@@ -614,12 +599,14 @@
    "cell_type": "markdown",
    "metadata": {},
    "source": [
-    "## Conclusion\n",
-    "### future works\n",
-    "- benchmarks must be done : to be sure at least that Fortran parallel code beats Julia sequentiel :-)\n",
-    "- the author wants write a package such as MPI.jl but for [OpenCoarrays](https://github.com/sourceryinstitute/opencoarrays). MPI is good for parallelism, but it remains a library for Fortran. Coarrays are part of the standard and are more natural to write parallel algorithms\n",
-    "### contact \n",
-    " If you have any questions or remarks, please do not hesitate to contact me : marc.fuentes@inria.fr\n"
+    "## Futur works\n",
+    "- In the heat problem, after computing the optimal $p$, one could want compute final U. In that\n",
+    "case, we need to gather the solution.\n",
+    "- benchmarks must be done : to be sure at least that Fortran parallel code beats Julia sequentiel 😉\n",
+    "- the author wants to write a package in the same spirit as MPI.jl but \n",
+    "for [OpenCoarrays](https://github.com/sourceryinstitute/opencoarrays). MPI is well suited for \n",
+    "parallelism, but it remains a library in Fortran. Coarrays are now part of the standard and they are \n",
+    "more natural to write parallel algorithms.\n"
    ]
   }
  ],
