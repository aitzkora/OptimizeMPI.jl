{
 "cells": [
  {
   "cell_type": "markdown",
   "metadata": {},
   "source": [
    "<center>\n",
    "<H1> Calling a parallel simulation code from Julia</H1>\n",
    "<img src=\"desman.jpg\" width=\"200\" alt=\"Galemys pyrenaicus\"/>\n",
    "    <H4> Marc Fuentes, INRIA </H4>\n",
    "    <H5> code and notebook available at http://github.com/aitzkora/OptimizeMPI.jl\n",
    "</center>    "
   ]
  },
  {
   "cell_type": "markdown",
   "metadata": {},
   "source": [
    "## Rationale\n",
    " \n",
    "Imagine you are doing a Ph.D and you use a big parallel software for simulating a \n",
    "physical process ; Your advisor asks to you to optimize some physical parameters. Sometimes,  it is called inverse problem whereas running your simulation is \n",
    "called direct problem. Optimization methods are numerous, and implementing state-of-the-art methods in a low-level language such as Fortran, C or C++ is not straightforward. Our idea here, is to present, some recipes (technical and numerical), to do that with our favorite language \"Julia\" without recoding from scratch the direct problem. Our hypotheses are the following : \n",
    "\n",
    " - distributed memory paradigm for parallelism (i.e. MPI) \n",
    " - direct problem is Fortran or C.\n",
    " - For optimization methods needing a gradient, we will implement possibly a adjoint in\n",
    " the low-level language\n",
    "\n",
    "To sum up with a small sketch it corresponds to \n",
    "<img src=\"rational_call.svg\" width=\"200\"/>"
   ]
  },
  {
   "cell_type": "markdown",
   "metadata": {},
   "source": [
    "## Technical aspects\n",
    "\n",
    "To manage to implement our optimization process, we need mainly of two ingredients\n",
    " - calling a piece of external code, thanks to `ccall`\n",
    " - running julia scripts in a MPI environment : we will use MPI.jl and MPIClusterManagers.jl\n",
    "\n",
    "Let's go : \n",
    "### calling Fortran or C code\n",
    "\n",
    "-the statement `ccall`  is pretty simple to use :  as documented in [,], furnishing a\n",
    "name of a C function in shared library, followed by its returns type, and type arguments,\n",
    "and a list of arguments, we\n"
   ]
  }
 ],
 "metadata": {
  "kernelspec": {
   "display_name": "Julia 1.5.0-beta1",
   "language": "julia",
   "name": "julia-1.5"
  },
  "language_info": {
   "file_extension": ".jl",
   "mimetype": "application/julia",
   "name": "julia",
   "version": "1.5.0"
  }
 },
 "nbformat": 4,
 "nbformat_minor": 4
}
