{
 "cells": [
  {
   "cell_type": "markdown",
   "metadata": {},
   "source": [
    "<center>\n",
    "<H1> Calling a parallel simulation code from Julia</H1>\n",
    "<img src=\"figures/desman.jpg\" width=\"200\" alt=\"Galemys pyrenaicus\"/>\n",
    "    <H4> Marc Fuentes, INRIA </H4>\n",
    "    <H5> code and notebook available at http://github.com/aitzkora/OptimizeMPI.jl\n",
    "</center>    "
   ]
  },
  {
   "cell_type": "markdown",
   "metadata": {},
   "source": [
    "## Rationale\n",
    " \n",
    "Imagine you are doing a Ph.D and you use a big parallel software for simulating a \n",
    "physical process ; Your advisor asks to you to optimize some physical parameters. Sometimes,  it is called inverse problem whereas running your simulation is \n",
    "called direct problem. Optimization methods are numerous, and implementing state-of-the-art methods in a low-level language such as Fortran, C or C++ is not straightforward. Our idea here, is to present, some recipes (technical and numerical), to do that with our favorite language \"Julia\" without recoding from scratch the direct problem. Our hypotheses are the following : \n",
    "\n",
    " - distributed memory paradigm for parallelism (i.e. MPI) \n",
    " - direct problem is Fortran or C.\n",
    " - For optimization methods needing a gradient, we will implement possibly a adjoint in\n",
    " the low-level language\n",
    "\n",
    "To sum up with a small sketch it corresponds to \n",
    "<img src=\"figures/rational_call.svg\" width=\"200\"/>"
   ]
  },
  {
   "cell_type": "markdown",
   "metadata": {
    "lines_to_next_cell": 0
   },
   "source": [
    "## technical tools\n",
    "\n",
    "To manage to implement our optimization process, we need mainly of two ingredients\n",
    "1. calling a piece of external code \n",
    "2. running julia scripts in a MPI environment \n",
    "\n",
    "Let's go : \n",
    "\n",
    "### calling Fortran or C code\n",
    "\n",
    "- to call a external piece of code,  we will use the *Julia* statement `ccall`. As documented\n",
    "[here](https://docs.julialang.org/en/v1/base/c/), the syntax is the following\n",
    "\n",
    "```julia\n",
    "ccall((:funcName, library), returnType, (argType1, argType2, ...), (argVal1, argVal2, ...))\n",
    "ccall(funcPtr, returnType, (argType1, argType2, ...), (argVal1, argVal2, ...))\n",
    "```\n",
    "\n",
    "where `function_name` is the mangled name of the C function in the shared library library. If you do not know\n",
    "what is mangling, take a look at [there](https://en.wikipedia.org/wiki/Name_mangling) : Roughly languages like \n",
    "Fortran (due case insensitiness) or C++ (the same function name could have several signatures), must encode\n",
    "their function names when they interoperate with C.\n",
    "\n",
    "#### Remarks \n",
    "- library is only _formally_ a string :\n",
    "- you could use `\"./mylib.so\"`   \n",
    "- but ⚠ you **could not** use `string(pwd(),\"/mylib.so\")` ⚠ \n",
    "- to use a library which is not in `.`, add the path to `LD_LIBRARY_PATH` before launching **Julia** (Just tested on Linux, for MacOS or Windows\n",
    "- using `dlopen` and `dlsym` one could directly use the function pointer call\n",
    "\n",
    "To start, we could do a small C example, with a function adding 2 to its argument"
   ]
  },
  {
   "cell_type": "code",
   "execution_count": 1,
   "metadata": {
    "lines_to_next_cell": 0
   },
   "outputs": [
    {
     "name": "stdout",
     "output_type": "stream",
     "text": [
      "w = 14\n"
     ]
    }
   ],
   "source": [
    "io = open(\"/tmp/skel.c\",\"w\")\n",
    "write(io, \"int addTwo(int x) { return x+2; }\")\n",
    "close(io)\n",
    "run(`gcc -o addTwo.so --shared /tmp/skel.c`);\n",
    "w = ccall((:addTwo, \"./addTwo.so\"), Int32, (Int32,), 12)\n",
    "run(`rm addTwo.so /tmp/skel.c`)\n",
    "println(\"w = $w\")"
   ]
  },
  {
   "cell_type": "markdown",
   "metadata": {},
   "source": [
    "\n"
   ]
  }
 ],
 "metadata": {
  "kernelspec": {
   "display_name": "Julia 1.5.0-beta1",
   "language": "julia",
   "name": "julia-1.5"
  },
  "language_info": {
   "file_extension": ".jl",
   "mimetype": "application/julia",
   "name": "julia",
   "version": "1.5.0"
  }
 },
 "nbformat": 4,
 "nbformat_minor": 4
}
